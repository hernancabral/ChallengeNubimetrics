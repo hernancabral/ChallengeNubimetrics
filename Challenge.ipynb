{
 "cells": [
  {
   "cell_type": "code",
   "execution_count": null,
   "metadata": {},
   "outputs": [],
   "source": [
    "#Se importan librerias, se define Schema y se carga .csv\n",
    "from pyspark.sql import SparkSession\n",
    "from pyspark.sql.types import StructType,StructField, IntegerType, StringType, DoubleType,LongType\n",
    "import pyspark.sql.functions as psf\n",
    "\n",
    "spark = SparkSession.builder.appName('Nubimetrics').getOrCreate()\n",
    "\n",
    "schema = StructType([\n",
    "    StructField(\"ID\", IntegerType()),\n",
    "    StructField(\"Title\", StringType()),\n",
    "    StructField(\"Sales\", DoubleType()),\n",
    "    StructField(\"Unit Sales\", LongType())\n",
    "])\n",
    "\n",
    "\n",
    "df = spark.read.option(\"delimiter\", \"\u0001\").csv('cellphoneslisting.csv', schema=schema, header=True, encoding='utf-8')\n"
   ]
  },
  {
   "cell_type": "code",
   "execution_count": null,
   "metadata": {},
   "outputs": [],
   "source": [
    "# Se verifica que se haya aplicado correctamente el Schema\n",
    "df.printSchema()"
   ]
  },
  {
   "cell_type": "code",
   "execution_count": null,
   "metadata": {},
   "outputs": [],
   "source": [
    "# Se da un primer vistazo a como esta compuesto los datos\n",
    "df.show(30, False)"
   ]
  },
  {
   "cell_type": "code",
   "execution_count": null,
   "metadata": {},
   "outputs": [],
   "source": [
    "# Se recorre con una expresion regular, los items de 'Title', buscando alguna de las marcas mas conocidas\n",
    "# Suma una nueva columna 'Brand', donde pondra la marca si es que la encuentra, caso contrario deja un string vacio\n",
    "brand_list = ['Samsung', 'Iphone', 'Xiaomi', 'Motorola', 'Huawei', 'Alcatel', 'Nokia', 'Lg', 'Blu', 'Ken Brown', 'Sony', 'Noblex', 'Bgh', 'Philco', 'Caterpillar', 'Kanji', 'Blackberry', 'Philips', 'Nextel', 'Hyundai' ]\n",
    "df1 = df.withColumn('Brand', psf.regexp_extract('Title', '(?=^|.*\\s)(' + '|'.join(brand_list) + ')(?=\\s|$)', 0))"
   ]
  },
  {
   "cell_type": "code",
   "execution_count": null,
   "metadata": {},
   "outputs": [],
   "source": [
    "#Se chequea cuales son los titulos que no pudo clasificar, para evalular si corresponde ponerlos en la lista\n",
    "df1.where(df1.Brand == '').show(30, False)"
   ]
  },
  {
   "cell_type": "code",
   "execution_count": null,
   "metadata": {},
   "outputs": [],
   "source": [
    "# Se verifica como queda una porcion del nuevo DataFrame ya clasificado\n",
    "df1.show(30, False)"
   ]
  },
  {
   "cell_type": "code",
   "execution_count": null,
   "metadata": {},
   "outputs": [],
   "source": [
    "# Se renombra lo clasificado como un string vacio a 'Otros'\n",
    "df_null = df1.withColumn(\"Marca\", psf.when(psf.col('Brand') != '', psf.col('Brand')).otherwise(None)).drop('Brand')\n",
    "df2 = df_null.na.fill({'Marca': 'Otros'})"
   ]
  },
  {
   "cell_type": "code",
   "execution_count": null,
   "metadata": {},
   "outputs": [],
   "source": [
    "# Se chequea cual es la proporcion de elementos no clasificados con el total, se encuentra aceptable.\n",
    "df2.where(df2.Marca == 'Otros').count() / df.count()"
   ]
  },
  {
   "cell_type": "code",
   "execution_count": null,
   "metadata": {},
   "outputs": [],
   "source": [
    "# Se arma el DataFrame final, donde se agrupa por marcas, sumando el total de ventas y la cantidad.\n",
    "df_final = df2.groupBy(df2.Marca).agg(psf.round(psf.sum(\"Sales\"),2).alias('Total de Ventas'), psf.sum(\"Unit Sales\").alias('Cantidad Vendida'))"
   ]
  },
  {
   "cell_type": "code",
   "execution_count": null,
   "metadata": {},
   "outputs": [],
   "source": [
    "# Se muestra ordenada por total de ventas\n",
    "df_final.orderBy('Total de Ventas', ascending=False).show()"
   ]
  },
  {
   "cell_type": "code",
   "execution_count": null,
   "metadata": {},
   "outputs": [],
   "source": [
    "#Se importan librerias necesarias para poder graficar el DataFrame anterior\n",
    "import pandas as pd\n",
    "import matplotlib.pyplot as plt\n",
    "\n",
    "#Necesario para correr en Jupyter Notebook\n",
    "from IPython import display\n",
    "%matplotlib inline"
   ]
  },
  {
   "cell_type": "code",
   "execution_count": null,
   "metadata": {},
   "outputs": [],
   "source": [
    "#Para operar mas facil, se pasa de DataFrame de Spark a uno de Pandas\n",
    "df_pandas = df_final.toPandas()"
   ]
  },
  {
   "cell_type": "code",
   "execution_count": null,
   "metadata": {},
   "outputs": [],
   "source": [
    "#Preparo los datos para poder graficarlos, por un tema de espacio, solo se tomaran los 5 valores mas altos teniendo\n",
    "# en cuenta el total de las ventas, el resto se sumara a 'Otros'\n",
    "\n",
    "df_top = df_pandas.sort_values('Total de Ventas', ascending=False)[:6]\n",
    "suma_ventas = df_pandas.sort_values('Total de Ventas', ascending=False)[\"Total de Ventas\"][6:].sum()\n",
    "suma_cant = df_pandas.sort_values('Cantidad Vendida', ascending=False)[\"Cantidad Vendida\"][6:].sum()\n",
    "\n",
    "#Indexo el DF\n",
    "df_top.set_index(\"Marca\", inplace=True)\n",
    "#df_top.head()\n",
    "\n",
    "#Obtengo el valor actual de 'Otros'\n",
    "value_ventas = df_top.loc[[\"Otros\"], ['Total de Ventas']].values[0][0]\n",
    "value_cant = df_top.loc[[\"Otros\"], ['Cantidad Vendida']].values[0][0]\n",
    "\n",
    "#Reemplazo en el nuevo DF a graficar\n",
    "df_top['Total de Ventas']['Otros'] = value_ventas + suma_ventas\n",
    "df_top['Cantidad Vendida']['Otros'] = value_cant + suma_cant\n",
    "\n",
    "#Una vez que termino de operar, reseteo el Index para poder graficar\n",
    "df_top.reset_index(inplace=True)"
   ]
  },
  {
   "cell_type": "code",
   "execution_count": null,
   "metadata": {},
   "outputs": [],
   "source": [
    "# Crear grafico de torta, tanto de total de ventas como de cantidad vendida\n",
    "\n",
    "plt.figure(0)\n",
    "plt.pie(\n",
    "    df_top['Total de Ventas'],\n",
    "    labels=df_top['Marca'],\n",
    "    shadow=False,\n",
    "    startangle=90,\n",
    "    autopct='%1.1f%%',\n",
    "    )\n",
    "plt.title('Total de Ventas')\n",
    "\n",
    "plt.figure(1)\n",
    "plt.pie(\n",
    "    df_top['Cantidad Vendida'],\n",
    "    labels=df_top['Marca'],\n",
    "    shadow=False,\n",
    "    startangle=90,\n",
    "    autopct='%1.1f%%',\n",
    "    )\n",
    "plt.title('Cantidad Vendida')\n",
    "\n",
    "plt.show()"
   ]
  },
  {
   "cell_type": "code",
   "execution_count": null,
   "metadata": {},
   "outputs": [],
   "source": []
  },
  {
   "cell_type": "code",
   "execution_count": null,
   "metadata": {},
   "outputs": [],
   "source": []
  },
  {
   "cell_type": "code",
   "execution_count": null,
   "metadata": {},
   "outputs": [],
   "source": []
  },
  {
   "cell_type": "code",
   "execution_count": null,
   "metadata": {},
   "outputs": [],
   "source": []
  },
  {
   "cell_type": "code",
   "execution_count": null,
   "metadata": {},
   "outputs": [],
   "source": []
  },
  {
   "cell_type": "code",
   "execution_count": null,
   "metadata": {},
   "outputs": [],
   "source": []
  },
  {
   "cell_type": "code",
   "execution_count": null,
   "metadata": {},
   "outputs": [],
   "source": []
  },
  {
   "cell_type": "code",
   "execution_count": null,
   "metadata": {},
   "outputs": [],
   "source": []
  },
  {
   "cell_type": "code",
   "execution_count": null,
   "metadata": {},
   "outputs": [],
   "source": []
  },
  {
   "cell_type": "code",
   "execution_count": null,
   "metadata": {},
   "outputs": [],
   "source": []
  }
 ],
 "metadata": {
  "kernelspec": {
   "display_name": "Python 3",
   "language": "python",
   "name": "python3"
  },
  "language_info": {
   "codemirror_mode": {
    "name": "ipython",
    "version": 3
   },
   "file_extension": ".py",
   "mimetype": "text/x-python",
   "name": "python",
   "nbconvert_exporter": "python",
   "pygments_lexer": "ipython3",
   "version": "3.6.5"
  }
 },
 "nbformat": 4,
 "nbformat_minor": 2
}
